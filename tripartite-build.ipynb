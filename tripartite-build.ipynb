{
 "cells": [
  {
   "cell_type": "code",
   "execution_count": 1,
   "metadata": {},
   "outputs": [],
   "source": [
    "import pandas as pd\n",
    "import numpy as np\n",
    "import matplotlib.pyplot as plt\n",
    "import networkx as nx\n",
    "import pickle\n",
    "\n",
    "# This uses the Answers.csv file from the 10% Stack Overflow data\n",
    "answer_file = \"data/Answers.csv\"\n",
    "tag_file = \"data/Tags.csv\"\n",
    "# This edge list is the intermediate file used for graph building\n",
    "edges_list_file = \"output/tripartite_edges.txt\"\n",
    "# tag list contains tag names in a list. tag_id from edge_list_file is the index of the list\n",
    "tag_list_file = 'output/tag_lis.pkl'\n",
    "\n",
    "# Question_ids and user_ids may overlap, but that does not mean questions are users!!!\n",
    "# Diff Soln: append a header in ids. This is important as we will need to keep the original questino_header\n",
    "# to associate with tags\n",
    "question_header = 'q_'\n",
    "answer_header = 'a_'\n",
    "tag_header = 't_'"
   ]
  },
  {
   "cell_type": "markdown",
   "metadata": {},
   "source": [
    "## Pre-processing"
   ]
  },
  {
   "cell_type": "code",
   "execution_count": 2,
   "metadata": {},
   "outputs": [
    {
     "output_type": "stream",
     "name": "stdout",
     "text": "(2014516, 6)\nId                int64\nOwnerUserId     float64\nCreationDate     object\nParentId          int64\nScore             int64\nBody             object\ndtype: object\n"
    },
    {
     "output_type": "execute_result",
     "data": {
      "text/plain": "    Id  OwnerUserId          CreationDate  ParentId  Score  \\\n0   92         61.0  2008-08-01T14:45:37Z        90     13   \n1  124         26.0  2008-08-01T16:09:47Z        80     12   \n2  199         50.0  2008-08-01T19:36:46Z       180      1   \n3  269         91.0  2008-08-01T23:49:57Z       260      4   \n4  307         49.0  2008-08-02T01:49:46Z       260     28   \n\n                                                Body  \n0  <p><a href=\"http://svnbook.red-bean.com/\">Vers...  \n1  <p>I wound up using this. It is a kind of a ha...  \n2  <p>I've read somewhere the human eye can't dis...  \n3  <p>Yes, I thought about that, but I soon figur...  \n4  <p><a href=\"http://www.codeproject.com/Article...  ",
      "text/html": "<div>\n<style scoped>\n    .dataframe tbody tr th:only-of-type {\n        vertical-align: middle;\n    }\n\n    .dataframe tbody tr th {\n        vertical-align: top;\n    }\n\n    .dataframe thead th {\n        text-align: right;\n    }\n</style>\n<table border=\"1\" class=\"dataframe\">\n  <thead>\n    <tr style=\"text-align: right;\">\n      <th></th>\n      <th>Id</th>\n      <th>OwnerUserId</th>\n      <th>CreationDate</th>\n      <th>ParentId</th>\n      <th>Score</th>\n      <th>Body</th>\n    </tr>\n  </thead>\n  <tbody>\n    <tr>\n      <th>0</th>\n      <td>92</td>\n      <td>61.0</td>\n      <td>2008-08-01T14:45:37Z</td>\n      <td>90</td>\n      <td>13</td>\n      <td>&lt;p&gt;&lt;a href=\"http://svnbook.red-bean.com/\"&gt;Vers...</td>\n    </tr>\n    <tr>\n      <th>1</th>\n      <td>124</td>\n      <td>26.0</td>\n      <td>2008-08-01T16:09:47Z</td>\n      <td>80</td>\n      <td>12</td>\n      <td>&lt;p&gt;I wound up using this. It is a kind of a ha...</td>\n    </tr>\n    <tr>\n      <th>2</th>\n      <td>199</td>\n      <td>50.0</td>\n      <td>2008-08-01T19:36:46Z</td>\n      <td>180</td>\n      <td>1</td>\n      <td>&lt;p&gt;I've read somewhere the human eye can't dis...</td>\n    </tr>\n    <tr>\n      <th>3</th>\n      <td>269</td>\n      <td>91.0</td>\n      <td>2008-08-01T23:49:57Z</td>\n      <td>260</td>\n      <td>4</td>\n      <td>&lt;p&gt;Yes, I thought about that, but I soon figur...</td>\n    </tr>\n    <tr>\n      <th>4</th>\n      <td>307</td>\n      <td>49.0</td>\n      <td>2008-08-02T01:49:46Z</td>\n      <td>260</td>\n      <td>28</td>\n      <td>&lt;p&gt;&lt;a href=\"http://www.codeproject.com/Article...</td>\n    </tr>\n  </tbody>\n</table>\n</div>"
     },
     "metadata": {},
     "execution_count": 2
    }
   ],
   "source": [
    "df = pd.read_csv(answer_file, encoding=\"ISO-8859-1\")\n",
    "print(df.shape)\n",
    "print(df.dtypes)\n",
    "df.head(5)\n"
   ]
  },
  {
   "cell_type": "code",
   "execution_count": 3,
   "metadata": {},
   "outputs": [
    {
     "output_type": "execute_result",
     "data": {
      "text/plain": "            Id  OwnerUserId          CreationDate  ParentId  Score  \\\n0           92         61.0  2008-08-01T14:45:37Z        90     13   \n10748   202317      20709.0  2008-10-14T18:41:45Z        90      2   \n85572  1466832      16012.0  2009-09-23T15:40:46Z        90     19   \n\n                                                    Body  \n0      <p><a href=\"http://svnbook.red-bean.com/\">Vers...  \n10748  <p>You can also try <em><a href=\"http://www.co...  \n85572  <p>My easy click-by-click instructions (<stron...  ",
      "text/html": "<div>\n<style scoped>\n    .dataframe tbody tr th:only-of-type {\n        vertical-align: middle;\n    }\n\n    .dataframe tbody tr th {\n        vertical-align: top;\n    }\n\n    .dataframe thead th {\n        text-align: right;\n    }\n</style>\n<table border=\"1\" class=\"dataframe\">\n  <thead>\n    <tr style=\"text-align: right;\">\n      <th></th>\n      <th>Id</th>\n      <th>OwnerUserId</th>\n      <th>CreationDate</th>\n      <th>ParentId</th>\n      <th>Score</th>\n      <th>Body</th>\n    </tr>\n  </thead>\n  <tbody>\n    <tr>\n      <th>0</th>\n      <td>92</td>\n      <td>61.0</td>\n      <td>2008-08-01T14:45:37Z</td>\n      <td>90</td>\n      <td>13</td>\n      <td>&lt;p&gt;&lt;a href=\"http://svnbook.red-bean.com/\"&gt;Vers...</td>\n    </tr>\n    <tr>\n      <th>10748</th>\n      <td>202317</td>\n      <td>20709.0</td>\n      <td>2008-10-14T18:41:45Z</td>\n      <td>90</td>\n      <td>2</td>\n      <td>&lt;p&gt;You can also try &lt;em&gt;&lt;a href=\"http://www.co...</td>\n    </tr>\n    <tr>\n      <th>85572</th>\n      <td>1466832</td>\n      <td>16012.0</td>\n      <td>2009-09-23T15:40:46Z</td>\n      <td>90</td>\n      <td>19</td>\n      <td>&lt;p&gt;My easy click-by-click instructions (&lt;stron...</td>\n    </tr>\n  </tbody>\n</table>\n</div>"
     },
     "metadata": {},
     "execution_count": 3
    }
   ],
   "source": [
    "# check that one question can have multiple answers\n",
    "df.loc[df['ParentId'] == 90]\n"
   ]
  },
  {
   "cell_type": "code",
   "execution_count": 4,
   "metadata": {
    "tags": [
     "outputPrepend"
    ]
   },
   "outputs": [
    {
     "output_type": "execute_result",
     "data": {
      "text/plain": "   question_id answer_id\n0         q_90      a_61\n1         q_80      a_26\n2        q_180      a_50\n3        q_260      a_91\n4        q_260      a_49\n5        q_330      a_59\n6        q_260     a_100\n7        q_260     a_119\n8        q_470      a_49\n9        q_180      a_86\n10       q_180     a_157\n11       q_580     a_149\n12       q_580      a_34\n13       q_580     a_116\n14       q_580     a_111\n15       q_580      a_76\n16       q_650      a_91\n17       q_650     a_175\n18       q_810     a_233\n19       q_810      a_91\n20       q_810     a_234\n21       q_810     a_233\n22       q_930     a_243\n23       q_930      a_49\n24       q_930      a_93\n25      q_1040      a_55\n26      q_1040     a_227\n27      q_1040     a_234\n28      q_1040     a_234\n30      q_1010       a_1",
      "text/html": "<div>\n<style scoped>\n    .dataframe tbody tr th:only-of-type {\n        vertical-align: middle;\n    }\n\n    .dataframe tbody tr th {\n        vertical-align: top;\n    }\n\n    .dataframe thead th {\n        text-align: right;\n    }\n</style>\n<table border=\"1\" class=\"dataframe\">\n  <thead>\n    <tr style=\"text-align: right;\">\n      <th></th>\n      <th>question_id</th>\n      <th>answer_id</th>\n    </tr>\n  </thead>\n  <tbody>\n    <tr>\n      <th>0</th>\n      <td>q_90</td>\n      <td>a_61</td>\n    </tr>\n    <tr>\n      <th>1</th>\n      <td>q_80</td>\n      <td>a_26</td>\n    </tr>\n    <tr>\n      <th>2</th>\n      <td>q_180</td>\n      <td>a_50</td>\n    </tr>\n    <tr>\n      <th>3</th>\n      <td>q_260</td>\n      <td>a_91</td>\n    </tr>\n    <tr>\n      <th>4</th>\n      <td>q_260</td>\n      <td>a_49</td>\n    </tr>\n    <tr>\n      <th>5</th>\n      <td>q_330</td>\n      <td>a_59</td>\n    </tr>\n    <tr>\n      <th>6</th>\n      <td>q_260</td>\n      <td>a_100</td>\n    </tr>\n    <tr>\n      <th>7</th>\n      <td>q_260</td>\n      <td>a_119</td>\n    </tr>\n    <tr>\n      <th>8</th>\n      <td>q_470</td>\n      <td>a_49</td>\n    </tr>\n    <tr>\n      <th>9</th>\n      <td>q_180</td>\n      <td>a_86</td>\n    </tr>\n    <tr>\n      <th>10</th>\n      <td>q_180</td>\n      <td>a_157</td>\n    </tr>\n    <tr>\n      <th>11</th>\n      <td>q_580</td>\n      <td>a_149</td>\n    </tr>\n    <tr>\n      <th>12</th>\n      <td>q_580</td>\n      <td>a_34</td>\n    </tr>\n    <tr>\n      <th>13</th>\n      <td>q_580</td>\n      <td>a_116</td>\n    </tr>\n    <tr>\n      <th>14</th>\n      <td>q_580</td>\n      <td>a_111</td>\n    </tr>\n    <tr>\n      <th>15</th>\n      <td>q_580</td>\n      <td>a_76</td>\n    </tr>\n    <tr>\n      <th>16</th>\n      <td>q_650</td>\n      <td>a_91</td>\n    </tr>\n    <tr>\n      <th>17</th>\n      <td>q_650</td>\n      <td>a_175</td>\n    </tr>\n    <tr>\n      <th>18</th>\n      <td>q_810</td>\n      <td>a_233</td>\n    </tr>\n    <tr>\n      <th>19</th>\n      <td>q_810</td>\n      <td>a_91</td>\n    </tr>\n    <tr>\n      <th>20</th>\n      <td>q_810</td>\n      <td>a_234</td>\n    </tr>\n    <tr>\n      <th>21</th>\n      <td>q_810</td>\n      <td>a_233</td>\n    </tr>\n    <tr>\n      <th>22</th>\n      <td>q_930</td>\n      <td>a_243</td>\n    </tr>\n    <tr>\n      <th>23</th>\n      <td>q_930</td>\n      <td>a_49</td>\n    </tr>\n    <tr>\n      <th>24</th>\n      <td>q_930</td>\n      <td>a_93</td>\n    </tr>\n    <tr>\n      <th>25</th>\n      <td>q_1040</td>\n      <td>a_55</td>\n    </tr>\n    <tr>\n      <th>26</th>\n      <td>q_1040</td>\n      <td>a_227</td>\n    </tr>\n    <tr>\n      <th>27</th>\n      <td>q_1040</td>\n      <td>a_234</td>\n    </tr>\n    <tr>\n      <th>28</th>\n      <td>q_1040</td>\n      <td>a_234</td>\n    </tr>\n    <tr>\n      <th>30</th>\n      <td>q_1010</td>\n      <td>a_1</td>\n    </tr>\n  </tbody>\n</table>\n</div>"
     },
     "metadata": {},
     "execution_count": 4
    }
   ],
   "source": [
    "edge_df = df[['OwnerUserId', 'ParentId']]\n",
    "# 1. drop null values\n",
    "edge_df = edge_df.dropna()\n",
    "# 2. make parentIds unique\n",
    "edge_df = edge_df.assign(question_id=lambda x: [question_header + str(i) for i in x.ParentId])\n",
    "edge_df = edge_df.assign(answer_id=lambda x: [answer_header + str(int(i))for i in x.OwnerUserId])\n",
    "\n",
    "# 2.a) just a small sanity check\n",
    "tmp_a = [(i, j ) for i, j in zip(edge_df['ParentId'], edge_df['question_id']) if question_header + str(i) != j]\n",
    "tmp_b = [(i, j ) for i, j in zip(edge_df['OwnerUserId'], edge_df['answer_id']) if answer_header + str(int(i)) != j]\n",
    "assert len(tmp_a) == 0 and len(tmp_b) == 0\n",
    "\n",
    "# 2.b) drop the old columns\n",
    "edge_df = edge_df.drop(['ParentId'], axis=1)\n",
    "edge_df = edge_df.drop(['OwnerUserId'], axis=1)\n",
    "edge_df.head(30)"
   ]
  },
  {
   "cell_type": "code",
   "execution_count": 5,
   "metadata": {},
   "outputs": [
    {
     "output_type": "stream",
     "name": "stdout",
     "text": "(3750994, 2)\nId      int64\nTag    object\ndtype: object\n"
    },
    {
     "output_type": "execute_result",
     "data": {
      "text/plain": "   Id             Tag\n0  80            flex\n1  80  actionscript-3\n2  80             air\n3  90             svn\n4  90     tortoisesvn",
      "text/html": "<div>\n<style scoped>\n    .dataframe tbody tr th:only-of-type {\n        vertical-align: middle;\n    }\n\n    .dataframe tbody tr th {\n        vertical-align: top;\n    }\n\n    .dataframe thead th {\n        text-align: right;\n    }\n</style>\n<table border=\"1\" class=\"dataframe\">\n  <thead>\n    <tr style=\"text-align: right;\">\n      <th></th>\n      <th>Id</th>\n      <th>Tag</th>\n    </tr>\n  </thead>\n  <tbody>\n    <tr>\n      <th>0</th>\n      <td>80</td>\n      <td>flex</td>\n    </tr>\n    <tr>\n      <th>1</th>\n      <td>80</td>\n      <td>actionscript-3</td>\n    </tr>\n    <tr>\n      <th>2</th>\n      <td>80</td>\n      <td>air</td>\n    </tr>\n    <tr>\n      <th>3</th>\n      <td>90</td>\n      <td>svn</td>\n    </tr>\n    <tr>\n      <th>4</th>\n      <td>90</td>\n      <td>tortoisesvn</td>\n    </tr>\n  </tbody>\n</table>\n</div>"
     },
     "metadata": {},
     "execution_count": 5
    }
   ],
   "source": [
    "# Add tags\n",
    "df_tags = pd.read_csv(tag_file, encoding=\"ISO-8859-1\", dtype={'Tag': str})\n",
    "print(df_tags.shape)\n",
    "print(df_tags.dtypes)\n",
    "df_tags.head(5)"
   ]
  },
  {
   "cell_type": "code",
   "execution_count": 6,
   "metadata": {},
   "outputs": [
    {
     "output_type": "execute_result",
     "data": {
      "text/plain": "  answer_id question_id\n0   t_24074        q_80\n1    t_4574        q_80\n2     t_704        q_80\n3   t_25973        q_90\n4   t_19991        q_90",
      "text/html": "<div>\n<style scoped>\n    .dataframe tbody tr th:only-of-type {\n        vertical-align: middle;\n    }\n\n    .dataframe tbody tr th {\n        vertical-align: top;\n    }\n\n    .dataframe thead th {\n        text-align: right;\n    }\n</style>\n<table border=\"1\" class=\"dataframe\">\n  <thead>\n    <tr style=\"text-align: right;\">\n      <th></th>\n      <th>answer_id</th>\n      <th>question_id</th>\n    </tr>\n  </thead>\n  <tbody>\n    <tr>\n      <th>0</th>\n      <td>t_24074</td>\n      <td>q_80</td>\n    </tr>\n    <tr>\n      <th>1</th>\n      <td>t_4574</td>\n      <td>q_80</td>\n    </tr>\n    <tr>\n      <th>2</th>\n      <td>t_704</td>\n      <td>q_80</td>\n    </tr>\n    <tr>\n      <th>3</th>\n      <td>t_25973</td>\n      <td>q_90</td>\n    </tr>\n    <tr>\n      <th>4</th>\n      <td>t_19991</td>\n      <td>q_90</td>\n    </tr>\n  </tbody>\n</table>\n</div>"
     },
     "metadata": {},
     "execution_count": 6
    }
   ],
   "source": [
    "# create id to the tags so we don't have to use the raw tags\n",
    "tag_list = list(set(df_tags['Tag']))\n",
    "name_to_tag = {curr_tag: index for index, curr_tag in enumerate(tag_list)}\n",
    "\n",
    "# note: use answer id so append would work nicely in the next step\n",
    "df_tags = df_tags.assign(answer_id=lambda x: [tag_header + str(name_to_tag[i]) for i in df_tags.Tag])\n",
    "df_tags = df_tags.assign(question_id=lambda x: [question_header + str(i) for i in x.Id])\n",
    "\n",
    "df_tags = df_tags.drop(['Id'], axis=1)\n",
    "df_tags = df_tags.drop(['Tag'], axis=1)\n",
    "df_tags.head(5)"
   ]
  },
  {
   "cell_type": "code",
   "execution_count": 7,
   "metadata": {},
   "outputs": [
    {
     "output_type": "execute_result",
     "data": {
      "text/plain": "  answer_id question_id  EdgeWeight\n0      a_61        q_90           1\n1      a_26        q_80           1\n2      a_50       q_180           1\n3      a_91       q_260           1\n4      a_49       q_260           1",
      "text/html": "<div>\n<style scoped>\n    .dataframe tbody tr th:only-of-type {\n        vertical-align: middle;\n    }\n\n    .dataframe tbody tr th {\n        vertical-align: top;\n    }\n\n    .dataframe thead th {\n        text-align: right;\n    }\n</style>\n<table border=\"1\" class=\"dataframe\">\n  <thead>\n    <tr style=\"text-align: right;\">\n      <th></th>\n      <th>answer_id</th>\n      <th>question_id</th>\n      <th>EdgeWeight</th>\n    </tr>\n  </thead>\n  <tbody>\n    <tr>\n      <th>0</th>\n      <td>a_61</td>\n      <td>q_90</td>\n      <td>1</td>\n    </tr>\n    <tr>\n      <th>1</th>\n      <td>a_26</td>\n      <td>q_80</td>\n      <td>1</td>\n    </tr>\n    <tr>\n      <th>2</th>\n      <td>a_50</td>\n      <td>q_180</td>\n      <td>1</td>\n    </tr>\n    <tr>\n      <th>3</th>\n      <td>a_91</td>\n      <td>q_260</td>\n      <td>1</td>\n    </tr>\n    <tr>\n      <th>4</th>\n      <td>a_49</td>\n      <td>q_260</td>\n      <td>1</td>\n    </tr>\n  </tbody>\n</table>\n</div>"
     },
     "metadata": {},
     "execution_count": 7
    }
   ],
   "source": [
    "tripartite_edges = edge_df.append(df_tags, ignore_index=True)\n",
    "# lastly add weights to edges\n",
    "tripartite_edges['EdgeWeight'] = 1\n",
    "tripartite_edges.head(5)"
   ]
  },
  {
   "cell_type": "code",
   "execution_count": 8,
   "metadata": {},
   "outputs": [],
   "source": [
    "tripartite_edges.to_csv(edges_list_file, sep=' ', header=False, index=False)\n",
    "\n",
    "with open(tag_list_file, 'wb') as handle:\n",
    "    pickle.dump(tag_list, handle, protocol=pickle.HIGHEST_PROTOCOL)\n",
    "\n",
    "# uncomment below for reading in tag list\n",
    "# with open(tag_list_file, 'rb') as handle:\n",
    "#     tag_list  = pickle.load(handle)"
   ]
  },
  {
   "cell_type": "code",
   "execution_count": 9,
   "metadata": {},
   "outputs": [
    {
     "output_type": "execute_result",
     "data": {
      "text/plain": "        answer_id question_id  EdgeWeight\n5752305   t_18149  q_40143360           1\n5752306    t_1668  q_40143360           1\n5752307   t_20022  q_40143380           1\n5752308   t_26012  q_40143380           1\n5752309    t_7467  q_40143380           1",
      "text/html": "<div>\n<style scoped>\n    .dataframe tbody tr th:only-of-type {\n        vertical-align: middle;\n    }\n\n    .dataframe tbody tr th {\n        vertical-align: top;\n    }\n\n    .dataframe thead th {\n        text-align: right;\n    }\n</style>\n<table border=\"1\" class=\"dataframe\">\n  <thead>\n    <tr style=\"text-align: right;\">\n      <th></th>\n      <th>answer_id</th>\n      <th>question_id</th>\n      <th>EdgeWeight</th>\n    </tr>\n  </thead>\n  <tbody>\n    <tr>\n      <th>5752305</th>\n      <td>t_18149</td>\n      <td>q_40143360</td>\n      <td>1</td>\n    </tr>\n    <tr>\n      <th>5752306</th>\n      <td>t_1668</td>\n      <td>q_40143360</td>\n      <td>1</td>\n    </tr>\n    <tr>\n      <th>5752307</th>\n      <td>t_20022</td>\n      <td>q_40143380</td>\n      <td>1</td>\n    </tr>\n    <tr>\n      <th>5752308</th>\n      <td>t_26012</td>\n      <td>q_40143380</td>\n      <td>1</td>\n    </tr>\n    <tr>\n      <th>5752309</th>\n      <td>t_7467</td>\n      <td>q_40143380</td>\n      <td>1</td>\n    </tr>\n  </tbody>\n</table>\n</div>"
     },
     "metadata": {},
     "execution_count": 9
    }
   ],
   "source": [
    "tripartite_edges.tail(5)"
   ]
  },
  {
   "cell_type": "code",
   "execution_count": null,
   "metadata": {},
   "outputs": [],
   "source": []
  }
 ],
 "metadata": {
  "language_info": {
   "codemirror_mode": {
    "name": "ipython",
    "version": 3
   },
   "file_extension": ".py",
   "mimetype": "text/x-python",
   "name": "python",
   "nbconvert_exporter": "python",
   "pygments_lexer": "ipython3",
   "version": "3.6.9-final"
  },
  "orig_nbformat": 2,
  "kernelspec": {
   "name": "python36964bit5886bab41c4343ffa9948abe0042cd30",
   "display_name": "Python 3.6.9 64-bit"
  }
 },
 "nbformat": 4,
 "nbformat_minor": 2
}