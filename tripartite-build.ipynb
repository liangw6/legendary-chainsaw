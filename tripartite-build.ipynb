{
 "cells": [
  {
   "cell_type": "code",
   "execution_count": 1,
   "metadata": {},
   "outputs": [],
   "source": [
    "import pandas as pd\n",
    "import numpy as np\n",
    "import matplotlib.pyplot as plt\n",
    "import networkx as nx\n",
    "import pickle\n",
    "\n",
    "# This uses the Answers.csv file from the 10% Stack Overflow data\n",
    "answer_file = \"data/Answers.csv\"\n",
    "tag_file = \"data/Tags.csv\"\n",
    "# This edge list is the intermediate file used for graph building\n",
    "edges_list_file = \"output/tripartite_edges.txt\"\n",
    "# tag list contains tag names in a list. tag_id from edge_list_file is the index of the list\n",
    "tag_list_file = 'output/tag_list.pkl'\n",
    "\n",
    "# Question_ids and user_ids may overlap, but that does not mean questions are users!!!\n",
    "# Diff Soln: append a header in ids. This is important as we will need to keep the original questino_header\n",
    "# to associate with tags\n",
    "question_header = 'q_'\n",
    "answer_header = 'u_'\n",
    "tag_header = 't_'"
   ]
  },
  {
   "cell_type": "markdown",
   "metadata": {},
   "source": [
    "## Pre-processing"
   ]
  },
  {
   "cell_type": "code",
   "execution_count": 2,
   "metadata": {},
   "outputs": [
    {
     "output_type": "stream",
     "name": "stdout",
     "text": "(2014516, 6)\nId                int64\nOwnerUserId     float64\nCreationDate     object\nParentId          int64\nScore             int64\nBody             object\ndtype: object\n"
    },
    {
     "output_type": "execute_result",
     "data": {
      "text/plain": "    Id  OwnerUserId          CreationDate  ParentId  Score  \\\n0   92         61.0  2008-08-01T14:45:37Z        90     13   \n1  124         26.0  2008-08-01T16:09:47Z        80     12   \n2  199         50.0  2008-08-01T19:36:46Z       180      1   \n3  269         91.0  2008-08-01T23:49:57Z       260      4   \n4  307         49.0  2008-08-02T01:49:46Z       260     28   \n\n                                                Body  \n0  <p><a href=\"http://svnbook.red-bean.com/\">Vers...  \n1  <p>I wound up using this. It is a kind of a ha...  \n2  <p>I've read somewhere the human eye can't dis...  \n3  <p>Yes, I thought about that, but I soon figur...  \n4  <p><a href=\"http://www.codeproject.com/Article...  ",
      "text/html": "<div>\n<style scoped>\n    .dataframe tbody tr th:only-of-type {\n        vertical-align: middle;\n    }\n\n    .dataframe tbody tr th {\n        vertical-align: top;\n    }\n\n    .dataframe thead th {\n        text-align: right;\n    }\n</style>\n<table border=\"1\" class=\"dataframe\">\n  <thead>\n    <tr style=\"text-align: right;\">\n      <th></th>\n      <th>Id</th>\n      <th>OwnerUserId</th>\n      <th>CreationDate</th>\n      <th>ParentId</th>\n      <th>Score</th>\n      <th>Body</th>\n    </tr>\n  </thead>\n  <tbody>\n    <tr>\n      <th>0</th>\n      <td>92</td>\n      <td>61.0</td>\n      <td>2008-08-01T14:45:37Z</td>\n      <td>90</td>\n      <td>13</td>\n      <td>&lt;p&gt;&lt;a href=\"http://svnbook.red-bean.com/\"&gt;Vers...</td>\n    </tr>\n    <tr>\n      <th>1</th>\n      <td>124</td>\n      <td>26.0</td>\n      <td>2008-08-01T16:09:47Z</td>\n      <td>80</td>\n      <td>12</td>\n      <td>&lt;p&gt;I wound up using this. It is a kind of a ha...</td>\n    </tr>\n    <tr>\n      <th>2</th>\n      <td>199</td>\n      <td>50.0</td>\n      <td>2008-08-01T19:36:46Z</td>\n      <td>180</td>\n      <td>1</td>\n      <td>&lt;p&gt;I've read somewhere the human eye can't dis...</td>\n    </tr>\n    <tr>\n      <th>3</th>\n      <td>269</td>\n      <td>91.0</td>\n      <td>2008-08-01T23:49:57Z</td>\n      <td>260</td>\n      <td>4</td>\n      <td>&lt;p&gt;Yes, I thought about that, but I soon figur...</td>\n    </tr>\n    <tr>\n      <th>4</th>\n      <td>307</td>\n      <td>49.0</td>\n      <td>2008-08-02T01:49:46Z</td>\n      <td>260</td>\n      <td>28</td>\n      <td>&lt;p&gt;&lt;a href=\"http://www.codeproject.com/Article...</td>\n    </tr>\n  </tbody>\n</table>\n</div>"
     },
     "metadata": {},
     "execution_count": 2
    }
   ],
   "source": [
    "df = pd.read_csv(answer_file, encoding=\"ISO-8859-1\")\n",
    "print(df.shape)\n",
    "print(df.dtypes)\n",
    "df.head(5)\n"
   ]
  },
  {
   "cell_type": "code",
   "execution_count": 3,
   "metadata": {},
   "outputs": [
    {
     "output_type": "execute_result",
     "data": {
      "text/plain": "            Id  OwnerUserId          CreationDate  ParentId  Score  \\\n0           92         61.0  2008-08-01T14:45:37Z        90     13   \n10748   202317      20709.0  2008-10-14T18:41:45Z        90      2   \n85572  1466832      16012.0  2009-09-23T15:40:46Z        90     19   \n\n                                                    Body  \n0      <p><a href=\"http://svnbook.red-bean.com/\">Vers...  \n10748  <p>You can also try <em><a href=\"http://www.co...  \n85572  <p>My easy click-by-click instructions (<stron...  ",
      "text/html": "<div>\n<style scoped>\n    .dataframe tbody tr th:only-of-type {\n        vertical-align: middle;\n    }\n\n    .dataframe tbody tr th {\n        vertical-align: top;\n    }\n\n    .dataframe thead th {\n        text-align: right;\n    }\n</style>\n<table border=\"1\" class=\"dataframe\">\n  <thead>\n    <tr style=\"text-align: right;\">\n      <th></th>\n      <th>Id</th>\n      <th>OwnerUserId</th>\n      <th>CreationDate</th>\n      <th>ParentId</th>\n      <th>Score</th>\n      <th>Body</th>\n    </tr>\n  </thead>\n  <tbody>\n    <tr>\n      <th>0</th>\n      <td>92</td>\n      <td>61.0</td>\n      <td>2008-08-01T14:45:37Z</td>\n      <td>90</td>\n      <td>13</td>\n      <td>&lt;p&gt;&lt;a href=\"http://svnbook.red-bean.com/\"&gt;Vers...</td>\n    </tr>\n    <tr>\n      <th>10748</th>\n      <td>202317</td>\n      <td>20709.0</td>\n      <td>2008-10-14T18:41:45Z</td>\n      <td>90</td>\n      <td>2</td>\n      <td>&lt;p&gt;You can also try &lt;em&gt;&lt;a href=\"http://www.co...</td>\n    </tr>\n    <tr>\n      <th>85572</th>\n      <td>1466832</td>\n      <td>16012.0</td>\n      <td>2009-09-23T15:40:46Z</td>\n      <td>90</td>\n      <td>19</td>\n      <td>&lt;p&gt;My easy click-by-click instructions (&lt;stron...</td>\n    </tr>\n  </tbody>\n</table>\n</div>"
     },
     "metadata": {},
     "execution_count": 3
    }
   ],
   "source": [
    "# check that one question can have multiple answers\n",
    "df.loc[df['ParentId'] == 90]\n"
   ]
  },
  {
   "cell_type": "code",
   "execution_count": 4,
   "metadata": {
    "tags": [
     "outputPrepend"
    ]
   },
   "outputs": [
    {
     "output_type": "execute_result",
     "data": {
      "text/plain": "   question_id answer_id\n0         q_90      u_61\n1         q_80      u_26\n2        q_180      u_50\n3        q_260      u_91\n4        q_260      u_49\n5        q_330      u_59\n6        q_260     u_100\n7        q_260     u_119\n8        q_470      u_49\n9        q_180      u_86\n10       q_180     u_157\n11       q_580     u_149\n12       q_580      u_34\n13       q_580     u_116\n14       q_580     u_111\n15       q_580      u_76\n16       q_650      u_91\n17       q_650     u_175\n18       q_810     u_233\n19       q_810      u_91\n20       q_810     u_234\n21       q_810     u_233\n22       q_930     u_243\n23       q_930      u_49\n24       q_930      u_93\n25      q_1040      u_55\n26      q_1040     u_227\n27      q_1040     u_234\n28      q_1040     u_234\n30      q_1010       u_1",
      "text/html": "<div>\n<style scoped>\n    .dataframe tbody tr th:only-of-type {\n        vertical-align: middle;\n    }\n\n    .dataframe tbody tr th {\n        vertical-align: top;\n    }\n\n    .dataframe thead th {\n        text-align: right;\n    }\n</style>\n<table border=\"1\" class=\"dataframe\">\n  <thead>\n    <tr style=\"text-align: right;\">\n      <th></th>\n      <th>question_id</th>\n      <th>answer_id</th>\n    </tr>\n  </thead>\n  <tbody>\n    <tr>\n      <th>0</th>\n      <td>q_90</td>\n      <td>u_61</td>\n    </tr>\n    <tr>\n      <th>1</th>\n      <td>q_80</td>\n      <td>u_26</td>\n    </tr>\n    <tr>\n      <th>2</th>\n      <td>q_180</td>\n      <td>u_50</td>\n    </tr>\n    <tr>\n      <th>3</th>\n      <td>q_260</td>\n      <td>u_91</td>\n    </tr>\n    <tr>\n      <th>4</th>\n      <td>q_260</td>\n      <td>u_49</td>\n    </tr>\n    <tr>\n      <th>5</th>\n      <td>q_330</td>\n      <td>u_59</td>\n    </tr>\n    <tr>\n      <th>6</th>\n      <td>q_260</td>\n      <td>u_100</td>\n    </tr>\n    <tr>\n      <th>7</th>\n      <td>q_260</td>\n      <td>u_119</td>\n    </tr>\n    <tr>\n      <th>8</th>\n      <td>q_470</td>\n      <td>u_49</td>\n    </tr>\n    <tr>\n      <th>9</th>\n      <td>q_180</td>\n      <td>u_86</td>\n    </tr>\n    <tr>\n      <th>10</th>\n      <td>q_180</td>\n      <td>u_157</td>\n    </tr>\n    <tr>\n      <th>11</th>\n      <td>q_580</td>\n      <td>u_149</td>\n    </tr>\n    <tr>\n      <th>12</th>\n      <td>q_580</td>\n      <td>u_34</td>\n    </tr>\n    <tr>\n      <th>13</th>\n      <td>q_580</td>\n      <td>u_116</td>\n    </tr>\n    <tr>\n      <th>14</th>\n      <td>q_580</td>\n      <td>u_111</td>\n    </tr>\n    <tr>\n      <th>15</th>\n      <td>q_580</td>\n      <td>u_76</td>\n    </tr>\n    <tr>\n      <th>16</th>\n      <td>q_650</td>\n      <td>u_91</td>\n    </tr>\n    <tr>\n      <th>17</th>\n      <td>q_650</td>\n      <td>u_175</td>\n    </tr>\n    <tr>\n      <th>18</th>\n      <td>q_810</td>\n      <td>u_233</td>\n    </tr>\n    <tr>\n      <th>19</th>\n      <td>q_810</td>\n      <td>u_91</td>\n    </tr>\n    <tr>\n      <th>20</th>\n      <td>q_810</td>\n      <td>u_234</td>\n    </tr>\n    <tr>\n      <th>21</th>\n      <td>q_810</td>\n      <td>u_233</td>\n    </tr>\n    <tr>\n      <th>22</th>\n      <td>q_930</td>\n      <td>u_243</td>\n    </tr>\n    <tr>\n      <th>23</th>\n      <td>q_930</td>\n      <td>u_49</td>\n    </tr>\n    <tr>\n      <th>24</th>\n      <td>q_930</td>\n      <td>u_93</td>\n    </tr>\n    <tr>\n      <th>25</th>\n      <td>q_1040</td>\n      <td>u_55</td>\n    </tr>\n    <tr>\n      <th>26</th>\n      <td>q_1040</td>\n      <td>u_227</td>\n    </tr>\n    <tr>\n      <th>27</th>\n      <td>q_1040</td>\n      <td>u_234</td>\n    </tr>\n    <tr>\n      <th>28</th>\n      <td>q_1040</td>\n      <td>u_234</td>\n    </tr>\n    <tr>\n      <th>30</th>\n      <td>q_1010</td>\n      <td>u_1</td>\n    </tr>\n  </tbody>\n</table>\n</div>"
     },
     "metadata": {},
     "execution_count": 4
    }
   ],
   "source": [
    "edge_df = df[['OwnerUserId', 'ParentId']]\n",
    "# 1. drop null values\n",
    "edge_df = edge_df.dropna()\n",
    "# 2. make parentIds unique\n",
    "edge_df = edge_df.assign(question_id=lambda x: [question_header + str(i) for i in x.ParentId])\n",
    "edge_df = edge_df.assign(answer_id=lambda x: [answer_header + str(int(i))for i in x.OwnerUserId])\n",
    "\n",
    "# 2.a) just a small sanity check\n",
    "tmp_a = [(i, j ) for i, j in zip(edge_df['ParentId'], edge_df['question_id']) if question_header + str(i) != j]\n",
    "tmp_b = [(i, j ) for i, j in zip(edge_df['OwnerUserId'], edge_df['answer_id']) if answer_header + str(int(i)) != j]\n",
    "assert len(tmp_a) == 0 and len(tmp_b) == 0\n",
    "\n",
    "# 2.b) drop the old columns\n",
    "edge_df = edge_df.drop(['ParentId'], axis=1)\n",
    "edge_df = edge_df.drop(['OwnerUserId'], axis=1)\n",
    "edge_df.head(30)"
   ]
  },
  {
   "cell_type": "code",
   "execution_count": 5,
   "metadata": {},
   "outputs": [
    {
     "output_type": "stream",
     "name": "stdout",
     "text": "(3750994, 2)\nId      int64\nTag    object\ndtype: object\n"
    },
    {
     "output_type": "execute_result",
     "data": {
      "text/plain": "   Id             Tag\n0  80            flex\n1  80  actionscript-3\n2  80             air\n3  90             svn\n4  90     tortoisesvn",
      "text/html": "<div>\n<style scoped>\n    .dataframe tbody tr th:only-of-type {\n        vertical-align: middle;\n    }\n\n    .dataframe tbody tr th {\n        vertical-align: top;\n    }\n\n    .dataframe thead th {\n        text-align: right;\n    }\n</style>\n<table border=\"1\" class=\"dataframe\">\n  <thead>\n    <tr style=\"text-align: right;\">\n      <th></th>\n      <th>Id</th>\n      <th>Tag</th>\n    </tr>\n  </thead>\n  <tbody>\n    <tr>\n      <th>0</th>\n      <td>80</td>\n      <td>flex</td>\n    </tr>\n    <tr>\n      <th>1</th>\n      <td>80</td>\n      <td>actionscript-3</td>\n    </tr>\n    <tr>\n      <th>2</th>\n      <td>80</td>\n      <td>air</td>\n    </tr>\n    <tr>\n      <th>3</th>\n      <td>90</td>\n      <td>svn</td>\n    </tr>\n    <tr>\n      <th>4</th>\n      <td>90</td>\n      <td>tortoisesvn</td>\n    </tr>\n  </tbody>\n</table>\n</div>"
     },
     "metadata": {},
     "execution_count": 5
    }
   ],
   "source": [
    "# Add tags\n",
    "df_tags = pd.read_csv(tag_file, encoding=\"ISO-8859-1\", dtype={'Tag': str})\n",
    "print(df_tags.shape)\n",
    "print(df_tags.dtypes)\n",
    "df_tags.head(5)"
   ]
  },
  {
   "cell_type": "code",
   "execution_count": 6,
   "metadata": {},
   "outputs": [
    {
     "output_type": "execute_result",
     "data": {
      "text/plain": "  answer_id question_id\n0    t_9662        q_80\n1   t_13492        q_80\n2   t_14279        q_80\n3   t_11367        q_90\n4   t_27737        q_90",
      "text/html": "<div>\n<style scoped>\n    .dataframe tbody tr th:only-of-type {\n        vertical-align: middle;\n    }\n\n    .dataframe tbody tr th {\n        vertical-align: top;\n    }\n\n    .dataframe thead th {\n        text-align: right;\n    }\n</style>\n<table border=\"1\" class=\"dataframe\">\n  <thead>\n    <tr style=\"text-align: right;\">\n      <th></th>\n      <th>answer_id</th>\n      <th>question_id</th>\n    </tr>\n  </thead>\n  <tbody>\n    <tr>\n      <th>0</th>\n      <td>t_9662</td>\n      <td>q_80</td>\n    </tr>\n    <tr>\n      <th>1</th>\n      <td>t_13492</td>\n      <td>q_80</td>\n    </tr>\n    <tr>\n      <th>2</th>\n      <td>t_14279</td>\n      <td>q_80</td>\n    </tr>\n    <tr>\n      <th>3</th>\n      <td>t_11367</td>\n      <td>q_90</td>\n    </tr>\n    <tr>\n      <th>4</th>\n      <td>t_27737</td>\n      <td>q_90</td>\n    </tr>\n  </tbody>\n</table>\n</div>"
     },
     "metadata": {},
     "execution_count": 6
    }
   ],
   "source": [
    "# create id to the tags so we don't have to use the raw tags\n",
    "tag_list = list(set(df_tags['Tag']))\n",
    "name_to_tag = {curr_tag: index for index, curr_tag in enumerate(tag_list)}\n",
    "\n",
    "# note: use answer id so append would work nicely in the next step\n",
    "df_tags = df_tags.assign(answer_id=lambda x: [tag_header + str(name_to_tag[i]) for i in df_tags.Tag])\n",
    "df_tags = df_tags.assign(question_id=lambda x: [question_header + str(i) for i in x.Id])\n",
    "\n",
    "df_tags = df_tags.drop(['Id'], axis=1)\n",
    "df_tags = df_tags.drop(['Tag'], axis=1)\n",
    "df_tags.head(5)"
   ]
  },
  {
   "cell_type": "code",
   "execution_count": 7,
   "metadata": {},
   "outputs": [
    {
     "output_type": "execute_result",
     "data": {
      "text/plain": "  answer_id question_id  EdgeWeight\n0      u_61        q_90           1\n1      u_26        q_80           1\n2      u_50       q_180           1\n3      u_91       q_260           1\n4      u_49       q_260           1",
      "text/html": "<div>\n<style scoped>\n    .dataframe tbody tr th:only-of-type {\n        vertical-align: middle;\n    }\n\n    .dataframe tbody tr th {\n        vertical-align: top;\n    }\n\n    .dataframe thead th {\n        text-align: right;\n    }\n</style>\n<table border=\"1\" class=\"dataframe\">\n  <thead>\n    <tr style=\"text-align: right;\">\n      <th></th>\n      <th>answer_id</th>\n      <th>question_id</th>\n      <th>EdgeWeight</th>\n    </tr>\n  </thead>\n  <tbody>\n    <tr>\n      <th>0</th>\n      <td>u_61</td>\n      <td>q_90</td>\n      <td>1</td>\n    </tr>\n    <tr>\n      <th>1</th>\n      <td>u_26</td>\n      <td>q_80</td>\n      <td>1</td>\n    </tr>\n    <tr>\n      <th>2</th>\n      <td>u_50</td>\n      <td>q_180</td>\n      <td>1</td>\n    </tr>\n    <tr>\n      <th>3</th>\n      <td>u_91</td>\n      <td>q_260</td>\n      <td>1</td>\n    </tr>\n    <tr>\n      <th>4</th>\n      <td>u_49</td>\n      <td>q_260</td>\n      <td>1</td>\n    </tr>\n  </tbody>\n</table>\n</div>"
     },
     "metadata": {},
     "execution_count": 7
    }
   ],
   "source": [
    "tripartite_edges = edge_df.append(df_tags, ignore_index=True)\n",
    "# lastly add weights to edges\n",
    "tripartite_edges['EdgeWeight'] = 1\n",
    "tripartite_edges.head(5)"
   ]
  },
  {
   "cell_type": "code",
   "execution_count": 8,
   "metadata": {},
   "outputs": [],
   "source": [
    "tripartite_edges.to_csv(edges_list_file, sep=' ', header=False, index=False)\n",
    "\n",
    "with open(tag_list_file, 'wb') as handle:\n",
    "    pickle.dump(tag_list, handle, protocol=pickle.HIGHEST_PROTOCOL)\n",
    "\n",
    "# uncomment below for reading in tag list\n",
    "# with open(tag_list_file, 'rb') as handle:\n",
    "#     tag_list  = pickle.load(handle)"
   ]
  },
  {
   "cell_type": "code",
   "execution_count": 9,
   "metadata": {},
   "outputs": [
    {
     "output_type": "execute_result",
     "data": {
      "text/plain": "        answer_id question_id  EdgeWeight\n5752305   t_33184  q_40143360           1\n5752306   t_16221  q_40143360           1\n5752307    t_4218  q_40143380           1\n5752308   t_31377  q_40143380           1\n5752309    t_4064  q_40143380           1",
      "text/html": "<div>\n<style scoped>\n    .dataframe tbody tr th:only-of-type {\n        vertical-align: middle;\n    }\n\n    .dataframe tbody tr th {\n        vertical-align: top;\n    }\n\n    .dataframe thead th {\n        text-align: right;\n    }\n</style>\n<table border=\"1\" class=\"dataframe\">\n  <thead>\n    <tr style=\"text-align: right;\">\n      <th></th>\n      <th>answer_id</th>\n      <th>question_id</th>\n      <th>EdgeWeight</th>\n    </tr>\n  </thead>\n  <tbody>\n    <tr>\n      <th>5752305</th>\n      <td>t_33184</td>\n      <td>q_40143360</td>\n      <td>1</td>\n    </tr>\n    <tr>\n      <th>5752306</th>\n      <td>t_16221</td>\n      <td>q_40143360</td>\n      <td>1</td>\n    </tr>\n    <tr>\n      <th>5752307</th>\n      <td>t_4218</td>\n      <td>q_40143380</td>\n      <td>1</td>\n    </tr>\n    <tr>\n      <th>5752308</th>\n      <td>t_31377</td>\n      <td>q_40143380</td>\n      <td>1</td>\n    </tr>\n    <tr>\n      <th>5752309</th>\n      <td>t_4064</td>\n      <td>q_40143380</td>\n      <td>1</td>\n    </tr>\n  </tbody>\n</table>\n</div>"
     },
     "metadata": {},
     "execution_count": 9
    }
   ],
   "source": [
    "tripartite_edges.tail(5)"
   ]
  },
  {
   "cell_type": "markdown",
   "metadata": {},
   "source": [
    "## recreate orignal random walk (i.e. no tags)"
   ]
  },
  {
   "cell_type": "code",
   "execution_count": 10,
   "metadata": {},
   "outputs": [
    {
     "output_type": "execute_result",
     "data": {
      "text/plain": "        question_id  answer_id\n2014511  q_40143190   u_333403\n2014512  q_40137110   u_642706\n2014513  q_40141860  u_2239781\n2014514  q_40077010  u_6934347\n2014515  q_40142910  u_4464432",
      "text/html": "<div>\n<style scoped>\n    .dataframe tbody tr th:only-of-type {\n        vertical-align: middle;\n    }\n\n    .dataframe tbody tr th {\n        vertical-align: top;\n    }\n\n    .dataframe thead th {\n        text-align: right;\n    }\n</style>\n<table border=\"1\" class=\"dataframe\">\n  <thead>\n    <tr style=\"text-align: right;\">\n      <th></th>\n      <th>question_id</th>\n      <th>answer_id</th>\n    </tr>\n  </thead>\n  <tbody>\n    <tr>\n      <th>2014511</th>\n      <td>q_40143190</td>\n      <td>u_333403</td>\n    </tr>\n    <tr>\n      <th>2014512</th>\n      <td>q_40137110</td>\n      <td>u_642706</td>\n    </tr>\n    <tr>\n      <th>2014513</th>\n      <td>q_40141860</td>\n      <td>u_2239781</td>\n    </tr>\n    <tr>\n      <th>2014514</th>\n      <td>q_40077010</td>\n      <td>u_6934347</td>\n    </tr>\n    <tr>\n      <th>2014515</th>\n      <td>q_40142910</td>\n      <td>u_4464432</td>\n    </tr>\n  </tbody>\n</table>\n</div>"
     },
     "metadata": {},
     "execution_count": 10
    }
   ],
   "source": [
    "edge_df.tail(5)"
   ]
  },
  {
   "cell_type": "code",
   "execution_count": 11,
   "metadata": {},
   "outputs": [
    {
     "output_type": "execute_result",
     "data": {
      "text/plain": "  question_id answer_id  EdgeWeight\n0        q_90      u_61           1\n1        q_80      u_26           1\n2       q_180      u_50           1\n3       q_260      u_91           1\n4       q_260      u_49           1",
      "text/html": "<div>\n<style scoped>\n    .dataframe tbody tr th:only-of-type {\n        vertical-align: middle;\n    }\n\n    .dataframe tbody tr th {\n        vertical-align: top;\n    }\n\n    .dataframe thead th {\n        text-align: right;\n    }\n</style>\n<table border=\"1\" class=\"dataframe\">\n  <thead>\n    <tr style=\"text-align: right;\">\n      <th></th>\n      <th>question_id</th>\n      <th>answer_id</th>\n      <th>EdgeWeight</th>\n    </tr>\n  </thead>\n  <tbody>\n    <tr>\n      <th>0</th>\n      <td>q_90</td>\n      <td>u_61</td>\n      <td>1</td>\n    </tr>\n    <tr>\n      <th>1</th>\n      <td>q_80</td>\n      <td>u_26</td>\n      <td>1</td>\n    </tr>\n    <tr>\n      <th>2</th>\n      <td>q_180</td>\n      <td>u_50</td>\n      <td>1</td>\n    </tr>\n    <tr>\n      <th>3</th>\n      <td>q_260</td>\n      <td>u_91</td>\n      <td>1</td>\n    </tr>\n    <tr>\n      <th>4</th>\n      <td>q_260</td>\n      <td>u_49</td>\n      <td>1</td>\n    </tr>\n  </tbody>\n</table>\n</div>"
     },
     "metadata": {},
     "execution_count": 11
    }
   ],
   "source": [
    "edge_df['EdgeWeight'] = 1\n",
    "edge_df.head(5)"
   ]
  },
  {
   "cell_type": "code",
   "execution_count": 13,
   "metadata": {},
   "outputs": [],
   "source": [
    "edge_df.to_csv(\"output/original_edges.txt\", sep=' ', header=False, index=False)"
   ]
  },
  {
   "cell_type": "code",
   "execution_count": null,
   "metadata": {},
   "outputs": [],
   "source": []
  }
 ],
 "metadata": {
  "language_info": {
   "codemirror_mode": {
    "name": "ipython",
    "version": 3
   },
   "file_extension": ".py",
   "mimetype": "text/x-python",
   "name": "python",
   "nbconvert_exporter": "python",
   "pygments_lexer": "ipython3",
   "version": "3.6.9-final"
  },
  "orig_nbformat": 2,
  "kernelspec": {
   "name": "python36964bit5886bab41c4343ffa9948abe0042cd30",
   "display_name": "Python 3.6.9 64-bit"
  }
 },
 "nbformat": 4,
 "nbformat_minor": 2
}