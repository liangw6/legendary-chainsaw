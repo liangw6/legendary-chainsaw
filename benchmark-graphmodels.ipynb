{
 "cells": [
  {
   "cell_type": "code",
   "execution_count": null,
   "metadata": {},
   "outputs": [],
   "source": [
    "## Uniformed way to establish the benchmark\n",
    "\n",
    "import pandas as pd\n",
    "import numpy as np\n",
    "import matplotlib.pyplot as plt\n",
    "import networkx as nx\n",
    "import pickle\n",
    "\n",
    "# This uses the Answers.csv file from the 10% Stack Overflow data\n",
    "answer_file = \"data/Answers.csv\"\n",
    "tag_file = \"data/Tags.csv\"\n",
    "# This edge list is the intermediate file used for graph building\n",
    "edges_list_file = \"output/tripartite_edges.txt\"\n",
    "# tag list contains tag names in a list. tag_id from edge_list_file is the index of the list\n",
    "tag_list_file = 'output/tag_lis.pkl'\n",
    "\n",
    "# Question_ids and user_ids may overlap, but that does not mean questions are users!!!\n",
    "# Diff Soln: append a header in ids. This is important as we will need to keep the original questino_header\n",
    "# to associate with tags\n",
    "question_header = 'q_'\n",
    "answer_header = 'u_'\n",
    "tag_header = 't_'"
   ]
  },
  {
   "cell_type": "code",
   "execution_count": null,
   "metadata": {},
   "outputs": [],
   "source": [
    "df = pd.read_csv(answer_file, encoding=\"ISO-8859-1\")\n"
   ]
  }
 ],
 "metadata": {
  "language_info": {
   "codemirror_mode": {
    "name": "ipython",
    "version": 3
   },
   "file_extension": ".py",
   "mimetype": "text/x-python",
   "name": "python",
   "nbconvert_exporter": "python",
   "pygments_lexer": "ipython3",
   "version": 3
  },
  "orig_nbformat": 2
 },
 "nbformat": 4,
 "nbformat_minor": 2
}