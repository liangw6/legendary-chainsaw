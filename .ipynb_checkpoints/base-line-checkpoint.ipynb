{
 "cells": [
  {
   "cell_type": "code",
   "execution_count": 2,
   "metadata": {
    "collapsed": true
   },
   "outputs": [],
   "source": [
    "import warnings\n",
    "warnings.filterwarnings(\"ignore\")\n",
    "\n",
    "import pandas as pd\n",
    "import numpy as np\n",
    "import matplotlib.pyplot as plt\n",
    "import networkx as nx\n",
    "import random\n",
    "import pickle\n",
    "from tqdm import tqdm\n",
    "from multiprocessing import Pool\n",
    "# This uses the Answers.csv file from the 10% Stack Overflow data\n",
    "answer_file = \"../Answers.csv\"\n",
    "# This edge list is the intermediate file used for graph building\n",
    "edges_list_file = \"../answer_edges.txt\""
   ]
  },
  {
   "cell_type": "code",
   "execution_count": 3,
   "metadata": {
    "collapsed": true
   },
   "outputs": [],
   "source": [
    "benchmark_1_data_file = \"output/benchmark_1.txt\"\n",
    "benchmark_2_data_file = \"output/benchmark_2.txt\"\n",
    "benchmark_3_data_file = \"output/benchmark_3.txt\"\n",
    "\n",
    "question_header = 'q_'\n",
    "user_header = 'u_'\n",
    "tag_header = 't_'\n"
   ]
  },
  {
   "cell_type": "markdown",
   "metadata": {},
   "source": [
    "## Pre-processing"
   ]
  },
  {
   "cell_type": "code",
   "execution_count": 4,
   "metadata": {},
   "outputs": [
    {
     "data": {
      "text/html": [
       "<div>\n",
       "<style>\n",
       "    .dataframe thead tr:only-child th {\n",
       "        text-align: right;\n",
       "    }\n",
       "\n",
       "    .dataframe thead th {\n",
       "        text-align: left;\n",
       "    }\n",
       "\n",
       "    .dataframe tbody tr th {\n",
       "        vertical-align: top;\n",
       "    }\n",
       "</style>\n",
       "<table border=\"1\" class=\"dataframe\">\n",
       "  <thead>\n",
       "    <tr style=\"text-align: right;\">\n",
       "      <th></th>\n",
       "      <th>Id</th>\n",
       "      <th>OwnerUserId</th>\n",
       "      <th>CreationDate</th>\n",
       "      <th>ParentId</th>\n",
       "      <th>Score</th>\n",
       "      <th>Body</th>\n",
       "    </tr>\n",
       "  </thead>\n",
       "  <tbody>\n",
       "    <tr>\n",
       "      <th>0</th>\n",
       "      <td>92</td>\n",
       "      <td>61.0</td>\n",
       "      <td>2008-08-01T14:45:37Z</td>\n",
       "      <td>90</td>\n",
       "      <td>13</td>\n",
       "      <td>&lt;p&gt;&lt;a href=\"http://svnbook.red-bean.com/\"&gt;Vers...</td>\n",
       "    </tr>\n",
       "    <tr>\n",
       "      <th>1</th>\n",
       "      <td>124</td>\n",
       "      <td>26.0</td>\n",
       "      <td>2008-08-01T16:09:47Z</td>\n",
       "      <td>80</td>\n",
       "      <td>12</td>\n",
       "      <td>&lt;p&gt;I wound up using this. It is a kind of a ha...</td>\n",
       "    </tr>\n",
       "    <tr>\n",
       "      <th>2</th>\n",
       "      <td>199</td>\n",
       "      <td>50.0</td>\n",
       "      <td>2008-08-01T19:36:46Z</td>\n",
       "      <td>180</td>\n",
       "      <td>1</td>\n",
       "      <td>&lt;p&gt;I've read somewhere the human eye can't dis...</td>\n",
       "    </tr>\n",
       "    <tr>\n",
       "      <th>3</th>\n",
       "      <td>269</td>\n",
       "      <td>91.0</td>\n",
       "      <td>2008-08-01T23:49:57Z</td>\n",
       "      <td>260</td>\n",
       "      <td>4</td>\n",
       "      <td>&lt;p&gt;Yes, I thought about that, but I soon figur...</td>\n",
       "    </tr>\n",
       "    <tr>\n",
       "      <th>4</th>\n",
       "      <td>307</td>\n",
       "      <td>49.0</td>\n",
       "      <td>2008-08-02T01:49:46Z</td>\n",
       "      <td>260</td>\n",
       "      <td>28</td>\n",
       "      <td>&lt;p&gt;&lt;a href=\"http://www.codeproject.com/Article...</td>\n",
       "    </tr>\n",
       "  </tbody>\n",
       "</table>\n",
       "</div>"
      ],
      "text/plain": [
       "    Id  OwnerUserId          CreationDate  ParentId  Score  \\\n",
       "0   92         61.0  2008-08-01T14:45:37Z        90     13   \n",
       "1  124         26.0  2008-08-01T16:09:47Z        80     12   \n",
       "2  199         50.0  2008-08-01T19:36:46Z       180      1   \n",
       "3  269         91.0  2008-08-01T23:49:57Z       260      4   \n",
       "4  307         49.0  2008-08-02T01:49:46Z       260     28   \n",
       "\n",
       "                                                Body  \n",
       "0  <p><a href=\"http://svnbook.red-bean.com/\">Vers...  \n",
       "1  <p>I wound up using this. It is a kind of a ha...  \n",
       "2  <p>I've read somewhere the human eye can't dis...  \n",
       "3  <p>Yes, I thought about that, but I soon figur...  \n",
       "4  <p><a href=\"http://www.codeproject.com/Article...  "
      ]
     },
     "execution_count": 4,
     "metadata": {},
     "output_type": "execute_result"
    }
   ],
   "source": [
    "# loads data with pands, it eats up memory, but parsing with pyspark is much more work\n",
    "df = pd.read_csv(\"../Answers.csv\", encoding=\"ISO-8859-1\")\n",
    "df.head(5)"
   ]
  },
  {
   "cell_type": "code",
   "execution_count": 5,
   "metadata": {},
   "outputs": [
    {
     "data": {
      "text/plain": [
       "(2014516, 6)"
      ]
     },
     "execution_count": 5,
     "metadata": {},
     "output_type": "execute_result"
    }
   ],
   "source": [
    "df.shape"
   ]
  },
  {
   "cell_type": "code",
   "execution_count": 6,
   "metadata": {},
   "outputs": [
    {
     "data": {
      "text/plain": [
       "OwnerUserId    7045028.0\n",
       "dtype: float64"
      ]
     },
     "execution_count": 6,
     "metadata": {},
     "output_type": "execute_result"
    }
   ],
   "source": [
    "# Question_ids and user_ids may overlap, but that does not mean questions are users!!!\n",
    "# Soln: each question_id += max_user_id\n",
    "max_user_id = df[['OwnerUserId']].max()\n",
    "max_user_id"
   ]
  },
  {
   "cell_type": "code",
   "execution_count": 7,
   "metadata": {},
   "outputs": [
    {
     "data": {
      "text/html": [
       "<div>\n",
       "<style>\n",
       "    .dataframe thead tr:only-child th {\n",
       "        text-align: right;\n",
       "    }\n",
       "\n",
       "    .dataframe thead th {\n",
       "        text-align: left;\n",
       "    }\n",
       "\n",
       "    .dataframe tbody tr th {\n",
       "        vertical-align: top;\n",
       "    }\n",
       "</style>\n",
       "<table border=\"1\" class=\"dataframe\">\n",
       "  <thead>\n",
       "    <tr style=\"text-align: right;\">\n",
       "      <th></th>\n",
       "      <th>OwnerUserId</th>\n",
       "      <th>newParentId</th>\n",
       "      <th>EdgeWeight</th>\n",
       "    </tr>\n",
       "  </thead>\n",
       "  <tbody>\n",
       "    <tr>\n",
       "      <th>0</th>\n",
       "      <td>61</td>\n",
       "      <td>7045118</td>\n",
       "      <td>1</td>\n",
       "    </tr>\n",
       "    <tr>\n",
       "      <th>1</th>\n",
       "      <td>26</td>\n",
       "      <td>7045108</td>\n",
       "      <td>1</td>\n",
       "    </tr>\n",
       "  </tbody>\n",
       "</table>\n",
       "</div>"
      ],
      "text/plain": [
       "   OwnerUserId  newParentId  EdgeWeight\n",
       "0           61      7045118           1\n",
       "1           26      7045108           1"
      ]
     },
     "execution_count": 7,
     "metadata": {},
     "output_type": "execute_result"
    }
   ],
   "source": [
    "edge_df = df[['OwnerUserId', 'ParentId']]\n",
    "# 1. drop null values\n",
    "edge_df = edge_df.dropna()\n",
    "# 2. make parentIds unique\n",
    "edge_df = edge_df.assign(newParentId=lambda x: x.ParentId + max(max_user_id))\n",
    "edge_df = edge_df.drop(['ParentId'], axis=1)\n",
    "# 3. add weights to edges\n",
    "edge_df['EdgeWeight'] = 1\n",
    "# 4. cast the datafraem to int type\n",
    "edge_df = edge_df.astype('int32')\n",
    "edge_df.head(2)"
   ]
  },
  {
   "cell_type": "markdown",
   "metadata": {},
   "source": [
    "## Benchmark on similar edges"
   ]
  },
  {
   "cell_type": "code",
   "execution_count": 8,
   "metadata": {
    "collapsed": true
   },
   "outputs": [],
   "source": [
    "import random\n",
    "from collections import Counter\n",
    "# parameters\n",
    "n_test_edge = 1000\n",
    "n_steps = 1000\n",
    "teleportation_alpha = 0.3\n",
    "origin_teleport_alpha = 0.7\n",
    "early_stop_threshold = 20\n",
    "\n",
    "def load_benchmark_data(benchmark_file, print_first_5_data=True):\n",
    "    benchmark_data = []\n",
    "    with open(benchmark_file, 'r') as input_file:\n",
    "        for line in input_file:\n",
    "            benchmark_data.append(line.strip().split())\n",
    "    print(np.array(benchmark_data).shape)\n",
    "    if print_first_5_data:\n",
    "        print(benchmark_data[:5])\n",
    "    return benchmark_data\n",
    "\n"
   ]
  },
  {
   "cell_type": "code",
   "execution_count": 9,
   "metadata": {},
   "outputs": [
    {
     "name": "stdout",
     "output_type": "stream",
     "text": [
      "(3000, 2)\n",
      "[['q_16446430', 'u_901048'], ['q_6469070', 'u_6782'], ['q_16391600', 'u_84206'], ['q_35926750', 'u_4564247'], ['q_30911550', 'u_1501794']]\n",
      "(3000, 2)\n",
      "[['q_728360', 'u_161515'], ['q_3662410', 'u_107612'], ['q_880230', 'u_1059268'], ['q_832620', 'u_547185'], ['q_58190', 'u_3833113']]\n",
      "(1925, 2)\n",
      "[['q_6130', 'u_267'], ['q_8050', 'u_905'], ['q_9750', 'u_267'], ['q_9750', 'u_13'], ['q_9750', 'u_13']]\n"
     ]
    }
   ],
   "source": [
    "# load benchmark file\n",
    "b1_data = load_benchmark_data(benchmark_1_data_file)\n",
    "b2_data = load_benchmark_data(benchmark_2_data_file)\n",
    "b3_data = load_benchmark_data(benchmark_3_data_file)"
   ]
  },
  {
   "cell_type": "markdown",
   "metadata": {},
   "source": [
    "## Baseline in time"
   ]
  },
  {
   "cell_type": "code",
   "execution_count": null,
   "metadata": {},
   "outputs": [
    {
     "data": {
      "text/html": [
       "<div>\n",
       "<style>\n",
       "    .dataframe thead tr:only-child th {\n",
       "        text-align: right;\n",
       "    }\n",
       "\n",
       "    .dataframe thead th {\n",
       "        text-align: left;\n",
       "    }\n",
       "\n",
       "    .dataframe tbody tr th {\n",
       "        vertical-align: top;\n",
       "    }\n",
       "</style>\n",
       "<table border=\"1\" class=\"dataframe\">\n",
       "  <thead>\n",
       "    <tr style=\"text-align: right;\">\n",
       "      <th></th>\n",
       "      <th>Id</th>\n",
       "      <th>OwnerUserId</th>\n",
       "      <th>CreationDate</th>\n",
       "      <th>ParentId</th>\n",
       "      <th>Score</th>\n",
       "      <th>Body</th>\n",
       "    </tr>\n",
       "  </thead>\n",
       "  <tbody>\n",
       "    <tr>\n",
       "      <th>0</th>\n",
       "      <td>92</td>\n",
       "      <td>61.0</td>\n",
       "      <td>2008-08-01 14:45:37</td>\n",
       "      <td>7053168</td>\n",
       "      <td>13</td>\n",
       "      <td>&lt;p&gt;&lt;a href=\"http://svnbook.red-bean.com/\"&gt;Vers...</td>\n",
       "    </tr>\n",
       "    <tr>\n",
       "      <th>1</th>\n",
       "      <td>124</td>\n",
       "      <td>26.0</td>\n",
       "      <td>2008-08-01 16:09:47</td>\n",
       "      <td>7053158</td>\n",
       "      <td>12</td>\n",
       "      <td>&lt;p&gt;I wound up using this. It is a kind of a ha...</td>\n",
       "    </tr>\n",
       "  </tbody>\n",
       "</table>\n",
       "</div>"
      ],
      "text/plain": [
       "    Id  OwnerUserId        CreationDate  ParentId  Score  \\\n",
       "0   92         61.0 2008-08-01 14:45:37   7053168     13   \n",
       "1  124         26.0 2008-08-01 16:09:47   7053158     12   \n",
       "\n",
       "                                                Body  \n",
       "0  <p><a href=\"http://svnbook.red-bean.com/\">Vers...  \n",
       "1  <p>I wound up using this. It is a kind of a ha...  "
      ]
     },
     "execution_count": 10,
     "metadata": {},
     "output_type": "execute_result"
    }
   ],
   "source": [
    "df[\"CreationDate\"] = pd.to_datetime(df[\"CreationDate\"])\n",
    "df[\"ParentId\"] = df[\"ParentId\"] + 7053078\n",
    "df.head(2)"
   ]
  },
  {
   "cell_type": "code",
   "execution_count": null,
   "metadata": {},
   "outputs": [
    {
     "name": "stderr",
     "output_type": "stream",
     "text": [
      " 55%|█████▍    | 1644/3000 [00:37<00:24, 54.32it/s]"
     ]
    }
   ],
   "source": [
    "for idx, curr_bench_data in enumerate([b1_data, b2_data, b3_data]):\n",
    "    result = []\n",
    "    df_copy = df.copy()\n",
    "    for question, user in tqdm(curr_bench_data):\n",
    "        suggestions = []\n",
    "        question_temp = int(question[2:]) + 7053078\n",
    "        user_temp = int(user[2:])\n",
    "\n",
    "        df_user = df[(df.OwnerUserId == user_temp)].sort_values(by=['CreationDate'], ascending = False)\n",
    "        curr_df = df[(df.OwnerUserId == user_temp) & (df.ParentId == question_temp)]\n",
    "        curr_time = list(curr_df[\"CreationDate\"])[0]\n",
    "\n",
    "        df_user[\"filter_time\"] = curr_time\n",
    "        df_user = df_user[df_user.filter_time > df_user.CreationDate]\n",
    "        if df_user.shape[0] >= 1:\n",
    "            pre_question = list(df_user[\"ParentId\"])[0]\n",
    "            pre_time = list(df_user[\"CreationDate\"])[0]\n",
    "            \n",
    "            df_copy[\"filter_time\"] = pre_time \n",
    "            df_copy = df_copy[df_copy.CreationDate > df_copy.filter_time]\n",
    "            df_copy[\"diff_time\"] = df_copy[\"CreationDate\"]  - df_copy[\"filter_time\"]\n",
    "            df_result = df_copy.drop_duplicates([\"ParentId\"])\n",
    "            df_result = df_result.sort_values(by=[\"diff_time\"])\n",
    "            suggestions = list(df_result[\"ParentId\"])[1:101]\n",
    "\n",
    "        result.append((user, question, suggestions))\n",
    "        \n",
    "    save_to = \"time_based_baseline\" + str(idx +1) + \".pk1\"\n",
    "    with open(save_to, 'wb') as handle:\n",
    "        pickle.dump(result, handle, protocol=pickle.HIGHEST_PROTOCOL)"
   ]
  },
  {
   "cell_type": "code",
   "execution_count": 16,
   "metadata": {
    "collapsed": true
   },
   "outputs": [],
   "source": [
    "count = 0\n",
    "for e in result:\n",
    "    if int(e[1][2:]) + 7053078 in e[2]:\n",
    "        count += 1"
   ]
  },
  {
   "cell_type": "code",
   "execution_count": 19,
   "metadata": {},
   "outputs": [
    {
     "data": {
      "text/plain": [
       "0.4072398190045249"
      ]
     },
     "execution_count": 19,
     "metadata": {},
     "output_type": "execute_result"
    }
   ],
   "source": [
    "count/1000"
   ]
  },
  {
   "cell_type": "code",
   "execution_count": 18,
   "metadata": {},
   "outputs": [
    {
     "data": {
      "text/plain": [
       "True"
      ]
     },
     "execution_count": 18,
     "metadata": {},
     "output_type": "execute_result"
    }
   ],
   "source": [
    "result[4][2] == result[5][2] "
   ]
  },
  {
   "cell_type": "code",
   "execution_count": null,
   "metadata": {
    "collapsed": true
   },
   "outputs": [],
   "source": [
    "result "
   ]
  }
 ],
 "metadata": {
  "kernelspec": {
   "display_name": "Python 3.6.1 64-bit ('anaconda': virtualenv)",
   "language": "python",
   "name": "python36164bitanacondavirtualenva849decffe6b4fdaa975805524ad0c31"
  },
  "language_info": {
   "codemirror_mode": {
    "name": "ipython",
    "version": 3
   },
   "file_extension": ".py",
   "mimetype": "text/x-python",
   "name": "python",
   "nbconvert_exporter": "python",
   "pygments_lexer": "ipython3",
   "version": "3.6.1"
  }
 },
 "nbformat": 4,
 "nbformat_minor": 2
}
