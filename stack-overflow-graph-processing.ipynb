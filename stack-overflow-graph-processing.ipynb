{
 "cells": [
  {
   "cell_type": "code",
   "execution_count": 2,
   "metadata": {},
   "outputs": [],
   "source": [
    "import pandas as pd\n",
    "import numpy as np\n",
    "\n",
    "import networkx as nx\n",
    "\n",
    "# This uses the Answers.csv file from the 10% Stack Overflow data\n",
    "answer_file = \"data/Answers.csv\"\n",
    "# This edge list is the intermediate file used for graph building\n",
    "edges_list_file = \"processed_data/answer_edges.txt\""
   ]
  },
  {
   "cell_type": "markdown",
   "metadata": {},
   "source": [
    "## Pre-processing"
   ]
  },
  {
   "cell_type": "code",
   "execution_count": 3,
   "metadata": {},
   "outputs": [
    {
     "output_type": "execute_result",
     "data": {
      "text/plain": "    Id  OwnerUserId          CreationDate  ParentId  Score  \\\n0   92         61.0  2008-08-01T14:45:37Z        90     13   \n1  124         26.0  2008-08-01T16:09:47Z        80     12   \n2  199         50.0  2008-08-01T19:36:46Z       180      1   \n3  269         91.0  2008-08-01T23:49:57Z       260      4   \n4  307         49.0  2008-08-02T01:49:46Z       260     28   \n\n                                                Body  \n0  <p><a href=\"http://svnbook.red-bean.com/\">Vers...  \n1  <p>I wound up using this. It is a kind of a ha...  \n2  <p>I've read somewhere the human eye can't dis...  \n3  <p>Yes, I thought about that, but I soon figur...  \n4  <p><a href=\"http://www.codeproject.com/Article...  ",
      "text/html": "<div>\n<style scoped>\n    .dataframe tbody tr th:only-of-type {\n        vertical-align: middle;\n    }\n\n    .dataframe tbody tr th {\n        vertical-align: top;\n    }\n\n    .dataframe thead th {\n        text-align: right;\n    }\n</style>\n<table border=\"1\" class=\"dataframe\">\n  <thead>\n    <tr style=\"text-align: right;\">\n      <th></th>\n      <th>Id</th>\n      <th>OwnerUserId</th>\n      <th>CreationDate</th>\n      <th>ParentId</th>\n      <th>Score</th>\n      <th>Body</th>\n    </tr>\n  </thead>\n  <tbody>\n    <tr>\n      <th>0</th>\n      <td>92</td>\n      <td>61.0</td>\n      <td>2008-08-01T14:45:37Z</td>\n      <td>90</td>\n      <td>13</td>\n      <td>&lt;p&gt;&lt;a href=\"http://svnbook.red-bean.com/\"&gt;Vers...</td>\n    </tr>\n    <tr>\n      <th>1</th>\n      <td>124</td>\n      <td>26.0</td>\n      <td>2008-08-01T16:09:47Z</td>\n      <td>80</td>\n      <td>12</td>\n      <td>&lt;p&gt;I wound up using this. It is a kind of a ha...</td>\n    </tr>\n    <tr>\n      <th>2</th>\n      <td>199</td>\n      <td>50.0</td>\n      <td>2008-08-01T19:36:46Z</td>\n      <td>180</td>\n      <td>1</td>\n      <td>&lt;p&gt;I've read somewhere the human eye can't dis...</td>\n    </tr>\n    <tr>\n      <th>3</th>\n      <td>269</td>\n      <td>91.0</td>\n      <td>2008-08-01T23:49:57Z</td>\n      <td>260</td>\n      <td>4</td>\n      <td>&lt;p&gt;Yes, I thought about that, but I soon figur...</td>\n    </tr>\n    <tr>\n      <th>4</th>\n      <td>307</td>\n      <td>49.0</td>\n      <td>2008-08-02T01:49:46Z</td>\n      <td>260</td>\n      <td>28</td>\n      <td>&lt;p&gt;&lt;a href=\"http://www.codeproject.com/Article...</td>\n    </tr>\n  </tbody>\n</table>\n</div>"
     },
     "metadata": {},
     "execution_count": 3
    }
   ],
   "source": [
    "# loads data with pands, it eats up memory, but parsing with pyspark is much more work\n",
    "df = pd.read_csv(\"data/Answers.csv\", encoding=\"ISO-8859-1\")\n",
    "df.head(5)"
   ]
  },
  {
   "cell_type": "code",
   "execution_count": 4,
   "metadata": {},
   "outputs": [
    {
     "output_type": "execute_result",
     "data": {
      "text/plain": "(2014516, 6)"
     },
     "metadata": {},
     "execution_count": 4
    }
   ],
   "source": [
    "df.shape"
   ]
  },
  {
   "cell_type": "code",
   "execution_count": 5,
   "metadata": {},
   "outputs": [
    {
     "output_type": "execute_result",
     "data": {
      "text/plain": "            Id  OwnerUserId          CreationDate  ParentId  Score  \\\n0           92         61.0  2008-08-01T14:45:37Z        90     13   \n10748   202317      20709.0  2008-10-14T18:41:45Z        90      2   \n85572  1466832      16012.0  2009-09-23T15:40:46Z        90     19   \n\n                                                    Body  \n0      <p><a href=\"http://svnbook.red-bean.com/\">Vers...  \n10748  <p>You can also try <em><a href=\"http://www.co...  \n85572  <p>My easy click-by-click instructions (<stron...  ",
      "text/html": "<div>\n<style scoped>\n    .dataframe tbody tr th:only-of-type {\n        vertical-align: middle;\n    }\n\n    .dataframe tbody tr th {\n        vertical-align: top;\n    }\n\n    .dataframe thead th {\n        text-align: right;\n    }\n</style>\n<table border=\"1\" class=\"dataframe\">\n  <thead>\n    <tr style=\"text-align: right;\">\n      <th></th>\n      <th>Id</th>\n      <th>OwnerUserId</th>\n      <th>CreationDate</th>\n      <th>ParentId</th>\n      <th>Score</th>\n      <th>Body</th>\n    </tr>\n  </thead>\n  <tbody>\n    <tr>\n      <th>0</th>\n      <td>92</td>\n      <td>61.0</td>\n      <td>2008-08-01T14:45:37Z</td>\n      <td>90</td>\n      <td>13</td>\n      <td>&lt;p&gt;&lt;a href=\"http://svnbook.red-bean.com/\"&gt;Vers...</td>\n    </tr>\n    <tr>\n      <th>10748</th>\n      <td>202317</td>\n      <td>20709.0</td>\n      <td>2008-10-14T18:41:45Z</td>\n      <td>90</td>\n      <td>2</td>\n      <td>&lt;p&gt;You can also try &lt;em&gt;&lt;a href=\"http://www.co...</td>\n    </tr>\n    <tr>\n      <th>85572</th>\n      <td>1466832</td>\n      <td>16012.0</td>\n      <td>2009-09-23T15:40:46Z</td>\n      <td>90</td>\n      <td>19</td>\n      <td>&lt;p&gt;My easy click-by-click instructions (&lt;stron...</td>\n    </tr>\n  </tbody>\n</table>\n</div>"
     },
     "metadata": {},
     "execution_count": 5
    }
   ],
   "source": [
    "df.loc[df['ParentId'] == 90]\n"
   ]
  },
  {
   "cell_type": "code",
   "execution_count": 6,
   "metadata": {},
   "outputs": [
    {
     "output_type": "execute_result",
     "data": {
      "text/plain": "OwnerUserId    7045028.0\ndtype: float64"
     },
     "metadata": {},
     "execution_count": 6
    }
   ],
   "source": [
    "# Question_ids and user_ids may overlap, but that does not mean questions are users!!!\n",
    "# Soln: each question_id += max_user_id\n",
    "max_user_id = df[['OwnerUserId']].max()\n",
    "max_user_id"
   ]
  },
  {
   "cell_type": "code",
   "execution_count": 7,
   "metadata": {},
   "outputs": [
    {
     "output_type": "execute_result",
     "data": {
      "text/plain": "    OwnerUserId  newParentId  EdgeWeight\n0            61      7045118           1\n1            26      7045108           1\n2            50      7045208           1\n3            91      7045288           1\n4            49      7045288           1\n5            59      7045358           1\n6           100      7045288           1\n7           119      7045288           1\n8            49      7045498           1\n9            86      7045208           1\n10          157      7045208           1\n11          149      7045608           1\n12           34      7045608           1\n13          116      7045608           1\n14          111      7045608           1\n15           76      7045608           1\n16           91      7045678           1\n17          175      7045678           1\n18          233      7045838           1\n19           91      7045838           1\n20          234      7045838           1\n21          233      7045838           1\n22          243      7045958           1\n23           49      7045958           1\n24           93      7045958           1\n25           55      7046068           1\n26          227      7046068           1\n27          234      7046068           1\n28          234      7046068           1\n30            1      7046038           1",
      "text/html": "<div>\n<style scoped>\n    .dataframe tbody tr th:only-of-type {\n        vertical-align: middle;\n    }\n\n    .dataframe tbody tr th {\n        vertical-align: top;\n    }\n\n    .dataframe thead th {\n        text-align: right;\n    }\n</style>\n<table border=\"1\" class=\"dataframe\">\n  <thead>\n    <tr style=\"text-align: right;\">\n      <th></th>\n      <th>OwnerUserId</th>\n      <th>newParentId</th>\n      <th>EdgeWeight</th>\n    </tr>\n  </thead>\n  <tbody>\n    <tr>\n      <th>0</th>\n      <td>61</td>\n      <td>7045118</td>\n      <td>1</td>\n    </tr>\n    <tr>\n      <th>1</th>\n      <td>26</td>\n      <td>7045108</td>\n      <td>1</td>\n    </tr>\n    <tr>\n      <th>2</th>\n      <td>50</td>\n      <td>7045208</td>\n      <td>1</td>\n    </tr>\n    <tr>\n      <th>3</th>\n      <td>91</td>\n      <td>7045288</td>\n      <td>1</td>\n    </tr>\n    <tr>\n      <th>4</th>\n      <td>49</td>\n      <td>7045288</td>\n      <td>1</td>\n    </tr>\n    <tr>\n      <th>5</th>\n      <td>59</td>\n      <td>7045358</td>\n      <td>1</td>\n    </tr>\n    <tr>\n      <th>6</th>\n      <td>100</td>\n      <td>7045288</td>\n      <td>1</td>\n    </tr>\n    <tr>\n      <th>7</th>\n      <td>119</td>\n      <td>7045288</td>\n      <td>1</td>\n    </tr>\n    <tr>\n      <th>8</th>\n      <td>49</td>\n      <td>7045498</td>\n      <td>1</td>\n    </tr>\n    <tr>\n      <th>9</th>\n      <td>86</td>\n      <td>7045208</td>\n      <td>1</td>\n    </tr>\n    <tr>\n      <th>10</th>\n      <td>157</td>\n      <td>7045208</td>\n      <td>1</td>\n    </tr>\n    <tr>\n      <th>11</th>\n      <td>149</td>\n      <td>7045608</td>\n      <td>1</td>\n    </tr>\n    <tr>\n      <th>12</th>\n      <td>34</td>\n      <td>7045608</td>\n      <td>1</td>\n    </tr>\n    <tr>\n      <th>13</th>\n      <td>116</td>\n      <td>7045608</td>\n      <td>1</td>\n    </tr>\n    <tr>\n      <th>14</th>\n      <td>111</td>\n      <td>7045608</td>\n      <td>1</td>\n    </tr>\n    <tr>\n      <th>15</th>\n      <td>76</td>\n      <td>7045608</td>\n      <td>1</td>\n    </tr>\n    <tr>\n      <th>16</th>\n      <td>91</td>\n      <td>7045678</td>\n      <td>1</td>\n    </tr>\n    <tr>\n      <th>17</th>\n      <td>175</td>\n      <td>7045678</td>\n      <td>1</td>\n    </tr>\n    <tr>\n      <th>18</th>\n      <td>233</td>\n      <td>7045838</td>\n      <td>1</td>\n    </tr>\n    <tr>\n      <th>19</th>\n      <td>91</td>\n      <td>7045838</td>\n      <td>1</td>\n    </tr>\n    <tr>\n      <th>20</th>\n      <td>234</td>\n      <td>7045838</td>\n      <td>1</td>\n    </tr>\n    <tr>\n      <th>21</th>\n      <td>233</td>\n      <td>7045838</td>\n      <td>1</td>\n    </tr>\n    <tr>\n      <th>22</th>\n      <td>243</td>\n      <td>7045958</td>\n      <td>1</td>\n    </tr>\n    <tr>\n      <th>23</th>\n      <td>49</td>\n      <td>7045958</td>\n      <td>1</td>\n    </tr>\n    <tr>\n      <th>24</th>\n      <td>93</td>\n      <td>7045958</td>\n      <td>1</td>\n    </tr>\n    <tr>\n      <th>25</th>\n      <td>55</td>\n      <td>7046068</td>\n      <td>1</td>\n    </tr>\n    <tr>\n      <th>26</th>\n      <td>227</td>\n      <td>7046068</td>\n      <td>1</td>\n    </tr>\n    <tr>\n      <th>27</th>\n      <td>234</td>\n      <td>7046068</td>\n      <td>1</td>\n    </tr>\n    <tr>\n      <th>28</th>\n      <td>234</td>\n      <td>7046068</td>\n      <td>1</td>\n    </tr>\n    <tr>\n      <th>30</th>\n      <td>1</td>\n      <td>7046038</td>\n      <td>1</td>\n    </tr>\n  </tbody>\n</table>\n</div>"
     },
     "metadata": {},
     "execution_count": 7
    }
   ],
   "source": [
    "edge_df = df[['OwnerUserId', 'ParentId']]\n",
    "# 1. drop null values\n",
    "edge_df = edge_df.dropna()\n",
    "# 2. make parentIds unique\n",
    "edge_df = edge_df.assign(newParentId=lambda x: x.ParentId + max(max_user_id))\n",
    "edge_df = edge_df.drop(['ParentId'], axis=1)\n",
    "# 3. add weights to edges\n",
    "edge_df['EdgeWeight'] = 1\n",
    "# 4. cast the datafraem to int type\n",
    "edge_df = edge_df.astype('int32')\n",
    "edge_df.head(30)"
   ]
  },
  {
   "cell_type": "code",
   "execution_count": 8,
   "metadata": {},
   "outputs": [
    {
     "output_type": "execute_result",
     "data": {
      "text/plain": "       OwnerUserId  newParentId  EdgeWeight\n0               61      7045118           1\n10748        20709      7045118           1\n85572        16012      7045118           1",
      "text/html": "<div>\n<style scoped>\n    .dataframe tbody tr th:only-of-type {\n        vertical-align: middle;\n    }\n\n    .dataframe tbody tr th {\n        vertical-align: top;\n    }\n\n    .dataframe thead th {\n        text-align: right;\n    }\n</style>\n<table border=\"1\" class=\"dataframe\">\n  <thead>\n    <tr style=\"text-align: right;\">\n      <th></th>\n      <th>OwnerUserId</th>\n      <th>newParentId</th>\n      <th>EdgeWeight</th>\n    </tr>\n  </thead>\n  <tbody>\n    <tr>\n      <th>0</th>\n      <td>61</td>\n      <td>7045118</td>\n      <td>1</td>\n    </tr>\n    <tr>\n      <th>10748</th>\n      <td>20709</td>\n      <td>7045118</td>\n      <td>1</td>\n    </tr>\n    <tr>\n      <th>85572</th>\n      <td>16012</td>\n      <td>7045118</td>\n      <td>1</td>\n    </tr>\n  </tbody>\n</table>\n</div>"
     },
     "metadata": {},
     "execution_count": 8
    }
   ],
   "source": [
    "edge_df.loc[edge_df['newParentId'] == 7045118]"
   ]
  },
  {
   "cell_type": "code",
   "execution_count": 9,
   "metadata": {},
   "outputs": [],
   "source": [
    "edge_df.to_csv('processed_data/answer_edges.txt', sep=' ', header=False, index=False)\n"
   ]
  },
  {
   "cell_type": "markdown",
   "metadata": {},
   "source": [
    "## Build Graph"
   ]
  },
  {
   "cell_type": "code",
   "execution_count": 10,
   "metadata": {},
   "outputs": [
    {
     "output_type": "stream",
     "name": "stdout",
     "text": "Name: \nType: Graph\nNumber of nodes: 1568735\nNumber of edges: 1993272\nAverage degree:   2.5412\n"
    }
   ],
   "source": [
    "# by default, nx creates undirected edges, exactly what we want\n",
    "G = nx.read_edgelist(edges_list_file, nodetype=int, data=(('weight',float),))\n",
    "print(nx.info(G))"
   ]
  },
  {
   "cell_type": "code",
   "execution_count": 11,
   "metadata": {
    "tags": [
     "outputPrepend"
    ]
   },
   "outputs": [
    {
     "output_type": "stream",
     "name": "stdout",
     "text": "[1, 3, 4, 5, 1048579, 2097159, 5242883, 9, 3145739, 1048588]\n[18874368, 39845888, 37748738, 25165828, 35651588, 12582918, 46137348, 41943048, 8388618, 14680078]\n0\n"
    }
   ],
   "source": [
    "all_user_ids = set()\n",
    "all_question_ids = set()\n",
    "with open(edges_list_file, 'r') as read_file:\n",
    "    for line in read_file.readlines():\n",
    "        user_id, question_id, weight = line.strip().split(' ')\n",
    "        all_user_ids.add(int(user_id))\n",
    "        all_question_ids.add(int(question_id))\n",
    "print(list(all_user_ids)[:10])\n",
    "print(list(all_question_ids)[:10])\n",
    "# should be no intersection between user_ids and question_ids\n",
    "print(len(all_user_ids.intersection(all_question_ids)))\n"
   ]
  },
  {
   "cell_type": "code",
   "execution_count": 12,
   "metadata": {
    "tags": [
     "outputPrepend"
    ]
   },
   "outputs": [
    {
     "output_type": "stream",
     "name": "stdout",
     "text": "connected components [1328544, 53, 36, 34, 34, 29, 28, 27, 25, 24]\n"
    }
   ],
   "source": [
    "# General Data Analysis\n",
    "islands = [len(c) for c in sorted(nx.connected_components(G), key=len, reverse=True)]\n",
    "print(\"connected components\", islands[:10])"
   ]
  },
  {
   "cell_type": "code",
   "execution_count": 13,
   "metadata": {},
   "outputs": [
    {
     "output_type": "execute_result",
     "data": {
      "text/plain": "0"
     },
     "metadata": {},
     "execution_count": 13
    }
   ],
   "source": [
    "# analyze how connected the graph is\n",
    "# connectivity of 0..... oh well\n",
    "from networkx.algorithms import approximation as approx\n",
    "approx.node_connectivity(G)"
   ]
  },
  {
   "cell_type": "markdown",
   "metadata": {},
   "source": [
    "## Test Performance"
   ]
  },
  {
   "cell_type": "code",
   "execution_count": 25,
   "metadata": {},
   "outputs": [],
   "source": [
    "import random\n",
    "from collections import Counter\n",
    "# parameters\n",
    "n_test_edge = 1000\n",
    "n_steps = 1000\n",
    "teleportation_alpha = 0.5\n",
    "early_stop_threshold = 20\n",
    "\n",
    "# returns whether x2 - y2 edge is the same as x1 - y1 edge\n",
    "# is_same_edge(1, 2, 2, 1) == is_same_edge(1, 2, 1, 2) == True\n",
    "def is_same_edge(x1, y1, x2, y2):\n",
    "    if x1 == x2:\n",
    "        return y1 == y2\n",
    "    elif x1 == y2:\n",
    "        return y1 == x2\n",
    "    return False\n",
    "\n",
    "# a random walk on the user_node (x or y)\n",
    "# pretend the direct edge (x, y) does not exist\n",
    "# returns a distribution of questions nodes\n",
    "def random_walk_on_edge(x, y):\n",
    "    # curr_pos is always on user nodes\n",
    "    starting_pos = x if x in all_user_ids else y\n",
    "    curr_pos = starting_pos\n",
    "    reacheable_count = Counter()\n",
    "    for s in range(n_steps):\n",
    "        try:\n",
    "            potential_questions_nodes = random.sample(set(G[curr_pos]), 2)\n",
    "            question_node = potential_questions_nodes[0] if not is_same_edge(x, y, potential_questions_nodes[0], curr_pos) else potential_questions_nodes[1]\n",
    "            # diff from pinterest algorithm in that we care about questions, not users\n",
    "            reacheable_count[question_node] += 1\n",
    "            if sum(reacheable_count.values()) / len(reacheable_count.values()) >= early_stop_threshold:\n",
    "                # if average > early_stop_threshold, stop\n",
    "                print('early stopping!')\n",
    "                break\n",
    "            potential_user_nodes = random.sample(set(G[question_node]), 2)\n",
    "            user_node = potential_user_nodes[0] if not is_same_edge(x, y, potential_user_nodes[0], curr_pos) else potential_user_nodes[1]\n",
    "            if random.random() < teleportation_alpha:\n",
    "                curr_pos = starting_pos\n",
    "            else:\n",
    "                curr_pos = user_node\n",
    "        except ValueError:\n",
    "            # encouter valueError during random.sample when population is smaller than 2\n",
    "            # This only happens if we reached a deadend\n",
    "            # simply teleport back\n",
    "            curr_pos = starting_pos\n",
    "    # calculate distribution\n",
    "    tot_visits = sum(reacheable_count.values())\n",
    "    # sort visits by counts\n",
    "    all_visits = sorted(reacheable_count.items(), key=lambda x: x[1])\n",
    "    return [(i[0], i[1] / tot_visits) for i in all_visits]\n",
    "\n"
   ]
  },
  {
   "cell_type": "code",
   "execution_count": 26,
   "metadata": {},
   "outputs": [
    {
     "output_type": "execute_result",
     "data": {
      "text/plain": "[(61, 7045118),\n (61, 7069298),\n (61, 7093008),\n (61, 7096418),\n (61, 7187368),\n (61, 7571688),\n (61, 8626588),\n (61, 9565248),\n (61, 13287568),\n (61, 13598978)]"
     },
     "metadata": {},
     "execution_count": 26
    }
   ],
   "source": [
    "all_edges = list(G.edges())\n",
    "all_edges[:10]"
   ]
  },
  {
   "cell_type": "code",
   "execution_count": 27,
   "metadata": {},
   "outputs": [
    {
     "output_type": "stream",
     "name": "stdout",
     "text": "{7045118: {'weight': 1.0}, 7069298: {'weight': 1.0}, 7093008: {'weight': 1.0}, 7096418: {'weight': 1.0}, 7187368: {'weight': 1.0}, 7571688: {'weight': 1.0}, 8626588: {'weight': 1.0}, 9565248: {'weight': 1.0}, 13287568: {'weight': 1.0}, 13598978: {'weight': 1.0}}\n[7045118, 7069298, 7093008, 7096418, 7187368, 7571688, 8626588, 9565248, 13287568, 13598978]\n"
    }
   ],
   "source": [
    "print(G[61])\n",
    "print(list(G[61]))"
   ]
  },
  {
   "cell_type": "code",
   "execution_count": 29,
   "metadata": {},
   "outputs": [
    {
     "output_type": "stream",
     "name": "stdout",
     "text": "[(9368798, 0.0010162601626016261), (7611138, 0.0010162601626016261), (15525668, 0.0010162601626016261), (7240868, 0.0010162601626016261), (7779168, 0.0010162601626016261), (21021708, 0.0010162601626016261), (7593448, 0.0010162601626016261), (8324948, 0.0010162601626016261), (8025148, 0.0010162601626016261), (15154978, 0.0010162601626016261)]\n299\n[]\n"
    }
   ],
   "source": [
    "test_distr = random_walk_on_edge(61, 7045118)\n",
    "print(test_distr[:10])\n",
    "print(len(test_distr))\n",
    "print([i for i in test_distr if i[0] == 7045118])"
   ]
  },
  {
   "cell_type": "code",
   "execution_count": 31,
   "metadata": {},
   "outputs": [
    {
     "output_type": "execute_result",
     "data": {
      "text/plain": "[7093008, 7096418]"
     },
     "metadata": {},
     "execution_count": 31
    }
   ],
   "source": [
    "import random\n",
    "random.sample(set(G[61]), 2)"
   ]
  },
  {
   "cell_type": "code",
   "execution_count": 32,
   "metadata": {},
   "outputs": [
    {
     "output_type": "execute_result",
     "data": {
      "text/plain": "True"
     },
     "metadata": {},
     "execution_count": 32
    }
   ],
   "source": [
    "1 in set([1, 2, 3])"
   ]
  },
  {
   "cell_type": "code",
   "execution_count": null,
   "metadata": {},
   "outputs": [],
   "source": []
  }
 ],
 "metadata": {
  "language_info": {
   "codemirror_mode": {
    "name": "ipython",
    "version": 3
   },
   "file_extension": ".py",
   "mimetype": "text/x-python",
   "name": "python",
   "nbconvert_exporter": "python",
   "pygments_lexer": "ipython3",
   "version": "3.6.9-final"
  },
  "orig_nbformat": 2,
  "kernelspec": {
   "name": "python36964bit5886bab41c4343ffa9948abe0042cd30",
   "display_name": "Python 3.6.9 64-bit"
  }
 },
 "nbformat": 4,
 "nbformat_minor": 2
}